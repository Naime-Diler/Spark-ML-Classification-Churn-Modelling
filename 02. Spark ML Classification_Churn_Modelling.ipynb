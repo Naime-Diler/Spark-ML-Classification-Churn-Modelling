{
 "cells": [
  {
   "cell_type": "markdown",
   "id": "f9e7241e",
   "metadata": {},
   "source": [
    "# Spark Machine Learning - Classification: CHURN MODELLING"
   ]
  },
  {
   "cell_type": "markdown",
   "id": "7daa0f6d",
   "metadata": {},
   "source": [
    "In diesem Projekt wird Spark ML für eine Klassifikationsanalyse zur Vorhersage von Kundenabwanderungen eingesetzt."
   ]
  },
  {
   "cell_type": "markdown",
   "id": "a3e76485",
   "metadata": {},
   "source": [
    "## Read Data"
   ]
  },
  {
   "cell_type": "markdown",
   "id": "1160d348",
   "metadata": {},
   "source": [
    "Bibliotheken importieren und Spark aufbauen:"
   ]
  },
  {
   "cell_type": "code",
   "execution_count": 1,
   "id": "c67b69ec",
   "metadata": {},
   "outputs": [],
   "source": [
    "import findspark"
   ]
  },
  {
   "cell_type": "code",
   "execution_count": 2,
   "id": "5afffbc4",
   "metadata": {},
   "outputs": [],
   "source": [
    "findspark.init(\"/opt/manual/spark\")"
   ]
  },
  {
   "cell_type": "code",
   "execution_count": 3,
   "id": "dd25ef00",
   "metadata": {},
   "outputs": [],
   "source": [
    "from pyspark.sql import SparkSession, functions as F\n",
    "import pandas as pd"
   ]
  },
  {
   "cell_type": "markdown",
   "id": "336e469a",
   "metadata": {},
   "source": [
    "Erstellen und Konfigurieren einer SparkSession:"
   ]
  },
  {
   "cell_type": "code",
   "execution_count": 4,
   "id": "4c0b9494",
   "metadata": {},
   "outputs": [
    {
     "name": "stderr",
     "output_type": "stream",
     "text": [
      "WARNING: An illegal reflective access operation has occurred\n",
      "WARNING: Illegal reflective access by org.apache.spark.unsafe.Platform (file:/opt/manual/spark-3.1.1-bin-hadoop3.2/jars/spark-unsafe_2.12-3.1.1.jar) to constructor java.nio.DirectByteBuffer(long,int)\n",
      "WARNING: Please consider reporting this to the maintainers of org.apache.spark.unsafe.Platform\n",
      "WARNING: Use --illegal-access=warn to enable warnings of further illegal reflective access operations\n",
      "WARNING: All illegal access operations will be denied in a future release\n",
      "2022-06-12 23:25:30,114 WARN util.NativeCodeLoader: Unable to load native-hadoop library for your platform... using builtin-java classes where applicable\n",
      "Setting default log level to \"WARN\".\n",
      "To adjust logging level use sc.setLogLevel(newLevel). For SparkR, use setLogLevel(newLevel).\n",
      "2022-06-12 23:25:31,833 WARN yarn.Client: Neither spark.yarn.jars nor spark.yarn.archive is set, falling back to uploading libraries under SPARK_HOME.\n"
     ]
    }
   ],
   "source": [
    "spark = SparkSession.builder \\\n",
    ".appName(\"Churn Scoring with GBT\") \\\n",
    ".master(\"yarn\") \\\n",
    ".config(\"spark.sql.shuffle.partitions\", \"2\") \\\n",
    ".getOrCreate()"
   ]
  },
  {
   "cell_type": "markdown",
   "id": "9eee5d8a",
   "metadata": {},
   "source": [
    "Einlesen der CSV-Datei in ein DataFrame:"
   ]
  },
  {
   "cell_type": "code",
   "execution_count": 8,
   "id": "eee27665",
   "metadata": {},
   "outputs": [
    {
     "name": "stderr",
     "output_type": "stream",
     "text": [
      "                                                                                \r"
     ]
    }
   ],
   "source": [
    "df = spark.read.format(\"csv\") \\\n",
    ".option(\"header\", True) \\\n",
    ".option(\"inferSchema\", True) \\\n",
    ".load(\"/user/train/datasets/Churn_Modelling.csv\")"
   ]
  },
  {
   "cell_type": "code",
   "execution_count": 9,
   "id": "8199a6de",
   "metadata": {},
   "outputs": [
    {
     "data": {
      "text/html": [
       "<div>\n",
       "<style scoped>\n",
       "    .dataframe tbody tr th:only-of-type {\n",
       "        vertical-align: middle;\n",
       "    }\n",
       "\n",
       "    .dataframe tbody tr th {\n",
       "        vertical-align: top;\n",
       "    }\n",
       "\n",
       "    .dataframe thead th {\n",
       "        text-align: right;\n",
       "    }\n",
       "</style>\n",
       "<table border=\"1\" class=\"dataframe\">\n",
       "  <thead>\n",
       "    <tr style=\"text-align: right;\">\n",
       "      <th></th>\n",
       "      <th>RowNumber</th>\n",
       "      <th>CustomerId</th>\n",
       "      <th>Surname</th>\n",
       "      <th>CreditScore</th>\n",
       "      <th>Geography</th>\n",
       "      <th>Gender</th>\n",
       "      <th>Age</th>\n",
       "      <th>Tenure</th>\n",
       "      <th>Balance</th>\n",
       "      <th>NumOfProducts</th>\n",
       "      <th>HasCrCard</th>\n",
       "      <th>IsActiveMember</th>\n",
       "      <th>EstimatedSalary</th>\n",
       "      <th>Exited</th>\n",
       "    </tr>\n",
       "  </thead>\n",
       "  <tbody>\n",
       "    <tr>\n",
       "      <th>0</th>\n",
       "      <td>1</td>\n",
       "      <td>15634602</td>\n",
       "      <td>Hargrave</td>\n",
       "      <td>619</td>\n",
       "      <td>France</td>\n",
       "      <td>Female</td>\n",
       "      <td>42</td>\n",
       "      <td>2</td>\n",
       "      <td>0.00</td>\n",
       "      <td>1</td>\n",
       "      <td>1</td>\n",
       "      <td>1</td>\n",
       "      <td>101348.88</td>\n",
       "      <td>1</td>\n",
       "    </tr>\n",
       "    <tr>\n",
       "      <th>1</th>\n",
       "      <td>2</td>\n",
       "      <td>15647311</td>\n",
       "      <td>Hill</td>\n",
       "      <td>608</td>\n",
       "      <td>Spain</td>\n",
       "      <td>Female</td>\n",
       "      <td>41</td>\n",
       "      <td>1</td>\n",
       "      <td>83807.86</td>\n",
       "      <td>1</td>\n",
       "      <td>0</td>\n",
       "      <td>1</td>\n",
       "      <td>112542.58</td>\n",
       "      <td>0</td>\n",
       "    </tr>\n",
       "    <tr>\n",
       "      <th>2</th>\n",
       "      <td>3</td>\n",
       "      <td>15619304</td>\n",
       "      <td>Onio</td>\n",
       "      <td>502</td>\n",
       "      <td>France</td>\n",
       "      <td>Female</td>\n",
       "      <td>42</td>\n",
       "      <td>8</td>\n",
       "      <td>159660.80</td>\n",
       "      <td>3</td>\n",
       "      <td>1</td>\n",
       "      <td>0</td>\n",
       "      <td>113931.57</td>\n",
       "      <td>1</td>\n",
       "    </tr>\n",
       "    <tr>\n",
       "      <th>3</th>\n",
       "      <td>4</td>\n",
       "      <td>15701354</td>\n",
       "      <td>Boni</td>\n",
       "      <td>699</td>\n",
       "      <td>France</td>\n",
       "      <td>Female</td>\n",
       "      <td>39</td>\n",
       "      <td>1</td>\n",
       "      <td>0.00</td>\n",
       "      <td>2</td>\n",
       "      <td>0</td>\n",
       "      <td>0</td>\n",
       "      <td>93826.63</td>\n",
       "      <td>0</td>\n",
       "    </tr>\n",
       "    <tr>\n",
       "      <th>4</th>\n",
       "      <td>5</td>\n",
       "      <td>15737888</td>\n",
       "      <td>Mitchell</td>\n",
       "      <td>850</td>\n",
       "      <td>Spain</td>\n",
       "      <td>Female</td>\n",
       "      <td>43</td>\n",
       "      <td>2</td>\n",
       "      <td>125510.82</td>\n",
       "      <td>1</td>\n",
       "      <td>1</td>\n",
       "      <td>1</td>\n",
       "      <td>79084.10</td>\n",
       "      <td>0</td>\n",
       "    </tr>\n",
       "  </tbody>\n",
       "</table>\n",
       "</div>"
      ],
      "text/plain": [
       "   RowNumber  CustomerId   Surname  CreditScore Geography  Gender  Age  \\\n",
       "0          1    15634602  Hargrave          619    France  Female   42   \n",
       "1          2    15647311      Hill          608     Spain  Female   41   \n",
       "2          3    15619304      Onio          502    France  Female   42   \n",
       "3          4    15701354      Boni          699    France  Female   39   \n",
       "4          5    15737888  Mitchell          850     Spain  Female   43   \n",
       "\n",
       "   Tenure    Balance  NumOfProducts  HasCrCard  IsActiveMember  \\\n",
       "0       2       0.00              1          1               1   \n",
       "1       1   83807.86              1          0               1   \n",
       "2       8  159660.80              3          1               0   \n",
       "3       1       0.00              2          0               0   \n",
       "4       2  125510.82              1          1               1   \n",
       "\n",
       "   EstimatedSalary  Exited  \n",
       "0        101348.88       1  \n",
       "1        112542.58       0  \n",
       "2        113931.57       1  \n",
       "3         93826.63       0  \n",
       "4         79084.10       0  "
      ]
     },
     "execution_count": 9,
     "metadata": {},
     "output_type": "execute_result"
    }
   ],
   "source": [
    "df.limit(5).toPandas()"
   ]
  },
  {
   "cell_type": "code",
   "execution_count": 10,
   "id": "1049f5ae",
   "metadata": {},
   "outputs": [
    {
     "name": "stdout",
     "output_type": "stream",
     "text": [
      "root\n",
      " |-- RowNumber: integer (nullable = true)\n",
      " |-- CustomerId: integer (nullable = true)\n",
      " |-- Surname: string (nullable = true)\n",
      " |-- CreditScore: integer (nullable = true)\n",
      " |-- Geography: string (nullable = true)\n",
      " |-- Gender: string (nullable = true)\n",
      " |-- Age: integer (nullable = true)\n",
      " |-- Tenure: integer (nullable = true)\n",
      " |-- Balance: double (nullable = true)\n",
      " |-- NumOfProducts: integer (nullable = true)\n",
      " |-- HasCrCard: integer (nullable = true)\n",
      " |-- IsActiveMember: integer (nullable = true)\n",
      " |-- EstimatedSalary: double (nullable = true)\n",
      " |-- Exited: integer (nullable = true)\n",
      "\n"
     ]
    }
   ],
   "source": [
    "df.printSchema()"
   ]
  },
  {
   "cell_type": "markdown",
   "id": "67119672",
   "metadata": {},
   "source": [
    "Die Übereinstimmung der Datentypen zwischen der Datenvorschau und dem Schema wird überprüft und es wurden keine Unstimmigkeiten festgestellt."
   ]
  },
  {
   "cell_type": "markdown",
   "id": "8544e39a",
   "metadata": {},
   "source": [
    "## Data Explore"
   ]
  },
  {
   "cell_type": "markdown",
   "id": "cd6fc612",
   "metadata": {},
   "source": [
    "Da der Datensatz nicht sehr groß ist, wird er im Speicher gehalten.:"
   ]
  },
  {
   "cell_type": "code",
   "execution_count": 11,
   "id": "2cb51872",
   "metadata": {},
   "outputs": [
    {
     "data": {
      "text/plain": [
       "DataFrame[RowNumber: int, CustomerId: int, Surname: string, CreditScore: int, Geography: string, Gender: string, Age: int, Tenure: int, Balance: double, NumOfProducts: int, HasCrCard: int, IsActiveMember: int, EstimatedSalary: double, Exited: int]"
      ]
     },
     "execution_count": 11,
     "metadata": {},
     "output_type": "execute_result"
    }
   ],
   "source": [
    "df.persist()"
   ]
  },
  {
   "cell_type": "code",
   "execution_count": 12,
   "id": "fefad81c",
   "metadata": {},
   "outputs": [
    {
     "name": "stdout",
     "output_type": "stream",
     "text": [
      "10000\n"
     ]
    },
    {
     "name": "stderr",
     "output_type": "stream",
     "text": [
      "\r",
      "[Stage 3:>                                                          (0 + 1) / 1]\r",
      "\r",
      "                                                                                \r"
     ]
    }
   ],
   "source": [
    "df_count = df.count()\n",
    "print(df_count)"
   ]
  },
  {
   "cell_type": "code",
   "execution_count": 13,
   "id": "d776c8fa",
   "metadata": {},
   "outputs": [
    {
     "data": {
      "text/plain": [
       "14"
      ]
     },
     "execution_count": 13,
     "metadata": {},
     "output_type": "execute_result"
    }
   ],
   "source": [
    "len(df.columns)"
   ]
  },
  {
   "cell_type": "markdown",
   "id": "e90695cf",
   "metadata": {},
   "source": [
    "## Null Check"
   ]
  },
  {
   "cell_type": "code",
   "execution_count": 14,
   "id": "3b2fe793",
   "metadata": {},
   "outputs": [],
   "source": [
    "for col_name in df.dtypes:\n",
    "    null_count = df.filter( (F.col(col_name[0]).isNull()) | (F.col(col_name[0]) == \"\")).count()\n",
    "    \n",
    "    if null_count > 0:\n",
    "        print(\"{}  {} type null values: {} % {}\".format(col_name[0], col_name[1], null_count, (null_count/df_count * 100)))"
   ]
  },
  {
   "cell_type": "markdown",
   "id": "6f3dae67",
   "metadata": {},
   "source": [
    "## Eigenschaften nach Typen gruppieren und kategoriale Merkmale verarbeiten"
   ]
  },
  {
   "cell_type": "code",
   "execution_count": 15,
   "id": "7e007266",
   "metadata": {},
   "outputs": [],
   "source": [
    "categoric_cols = []\n",
    "\n",
    "numeric_cols = []\n",
    "\n",
    "discarted_cols = ['RowNumber', 'CustomerId', 'Surname']\n",
    "\n",
    "label_col = ['Exited']\n"
   ]
  },
  {
   "cell_type": "code",
   "execution_count": 16,
   "id": "b02491a6",
   "metadata": {},
   "outputs": [],
   "source": [
    "for col_name in df.dtypes:\n",
    "    if (col_name[0] not in discarted_cols+label_col):\n",
    "        if col_name[1] == 'string':\n",
    "            categoric_cols.append(col_name[0])\n",
    "        else: numeric_cols.append(col_name[0])"
   ]
  },
  {
   "cell_type": "code",
   "execution_count": 17,
   "id": "ecb5df80",
   "metadata": {},
   "outputs": [
    {
     "name": "stdout",
     "output_type": "stream",
     "text": [
      "['Geography', 'Gender']\n",
      "2\n"
     ]
    }
   ],
   "source": [
    "print(categoric_cols)\n",
    "print(len(categoric_cols))"
   ]
  },
  {
   "cell_type": "code",
   "execution_count": 18,
   "id": "42a3fd93",
   "metadata": {},
   "outputs": [
    {
     "name": "stdout",
     "output_type": "stream",
     "text": [
      "['CreditScore', 'Age', 'Tenure', 'Balance', 'NumOfProducts', 'HasCrCard', 'IsActiveMember', 'EstimatedSalary']\n",
      "8\n"
     ]
    }
   ],
   "source": [
    "print(numeric_cols )\n",
    "print(len(numeric_cols))\n"
   ]
  },
  {
   "cell_type": "code",
   "execution_count": 19,
   "id": "399eb683",
   "metadata": {},
   "outputs": [
    {
     "name": "stdout",
     "output_type": "stream",
     "text": [
      "['RowNumber', 'CustomerId', 'Surname']\n",
      "3\n"
     ]
    }
   ],
   "source": [
    "print(discarted_cols )\n",
    "print(len(discarted_cols))"
   ]
  },
  {
   "cell_type": "code",
   "execution_count": 20,
   "id": "683e1889",
   "metadata": {},
   "outputs": [
    {
     "name": "stdout",
     "output_type": "stream",
     "text": [
      "['Exited']\n",
      "1\n"
     ]
    }
   ],
   "source": [
    "print(label_col)\n",
    "print(len(label_col))"
   ]
  },
  {
   "cell_type": "markdown",
   "id": "45e0ee6c",
   "metadata": {},
   "source": [
    "## Trim"
   ]
  },
  {
   "cell_type": "markdown",
   "id": "155c5a17",
   "metadata": {},
   "source": [
    "Führende und nachfolgende Leerzeichen werden aus den Werten in den kategorialen Spalten entfernt.:"
   ]
  },
  {
   "cell_type": "code",
   "execution_count": 21,
   "id": "fb0808fb",
   "metadata": {},
   "outputs": [],
   "source": [
    "for col_name in categoric_cols:\n",
    "    df1 = df.withColumn(col_name, F.trim(col_name))"
   ]
  },
  {
   "cell_type": "code",
   "execution_count": 22,
   "id": "60c98179",
   "metadata": {},
   "outputs": [
    {
     "name": "stdout",
     "output_type": "stream",
     "text": [
      "+------+-----+\n",
      "|Exited|count|\n",
      "+------+-----+\n",
      "|     1| 2037|\n",
      "|     0| 7963|\n",
      "+------+-----+\n",
      "\n"
     ]
    }
   ],
   "source": [
    "df.select(label_col[0]).groupBy(label_col[0]).count().show()"
   ]
  },
  {
   "cell_type": "markdown",
   "id": "7e087546",
   "metadata": {},
   "source": [
    "## Examine Categoricals"
   ]
  },
  {
   "cell_type": "code",
   "execution_count": 23,
   "id": "91a1a26f",
   "metadata": {},
   "outputs": [
    {
     "name": "stdout",
     "output_type": "stream",
     "text": [
      "+---------+-----+\n",
      "|Geography|count|\n",
      "+---------+-----+\n",
      "|   France| 5014|\n",
      "|  Germany| 2509|\n",
      "|    Spain| 2477|\n",
      "+---------+-----+\n",
      "\n",
      "+------+-----+\n",
      "|Gender|count|\n",
      "+------+-----+\n",
      "|Female| 4543|\n",
      "|  Male| 5457|\n",
      "+------+-----+\n",
      "\n"
     ]
    }
   ],
   "source": [
    "for col_name in categoric_cols:\n",
    "    df1.select(col_name).groupBy(col_name).count().show()\n"
   ]
  },
  {
   "cell_type": "markdown",
   "id": "448212f8",
   "metadata": {},
   "source": [
    "## Verify Cols"
   ]
  },
  {
   "cell_type": "code",
   "execution_count": 24,
   "id": "a289f7d7",
   "metadata": {},
   "outputs": [
    {
     "name": "stdout",
     "output_type": "stream",
     "text": [
      "Columns verified\n"
     ]
    }
   ],
   "source": [
    "if len(df1.columns) == (len(categoric_cols)+len(numeric_cols)+len(discarted_cols)+len(label_col)):\n",
    "    print(\"Columns verified\")\n",
    "else: print(\"There is problem with columns\")"
   ]
  },
  {
   "cell_type": "markdown",
   "id": "904c40c4",
   "metadata": {},
   "source": [
    "## StringIndexer, OneHotEncoder, VectorAssembler, Scaler & Estimator"
   ]
  },
  {
   "cell_type": "markdown",
   "id": "acdfcc75",
   "metadata": {},
   "source": [
    "### Select Cols to Hot Coded\n",
    "\n",
    "Kategoriale Spalten werden für die One-Hot-Codierung ausgewählt, wenn sie mehr als zwei eindeutige Werte enthalten.:"
   ]
  },
  {
   "cell_type": "code",
   "execution_count": 25,
   "id": "b30158ab",
   "metadata": {},
   "outputs": [],
   "source": [
    "to_be_oheded = []\n",
    "for col_name in categoric_cols:\n",
    "    count = df1.select(col_name).distinct().count()\n",
    "\n",
    "    if count > 2:\n",
    "        to_be_oheded.append(col_name)"
   ]
  },
  {
   "cell_type": "code",
   "execution_count": 26,
   "id": "f9158b9c",
   "metadata": {},
   "outputs": [
    {
     "name": "stdout",
     "output_type": "stream",
     "text": [
      "['Geography']\n"
     ]
    }
   ],
   "source": [
    "print(to_be_oheded)"
   ]
  },
  {
   "cell_type": "markdown",
   "id": "abea1bcf",
   "metadata": {},
   "source": [
    "### StringIndexer"
   ]
  },
  {
   "cell_type": "code",
   "execution_count": 27,
   "id": "f16cf9f3",
   "metadata": {},
   "outputs": [],
   "source": [
    "from pyspark.ml.feature import StringIndexer"
   ]
  },
  {
   "cell_type": "code",
   "execution_count": 28,
   "id": "b48affb7",
   "metadata": {},
   "outputs": [],
   "source": [
    "# Es werden `StringIndexer`-Objekte für jede kategoriale Spalte erstellt und konfiguriert, deren Ausgabespaltennamen werden in \n",
    "# Listen gespeichert. Zudem wird eine Liste von Spalten für die One-Hot-Codierung vorbereitet, falls diese Spalten mehr als \n",
    "# zwei eindeutige Werte enthalten.\n",
    "\n",
    "\n",
    "\n",
    "\n",
    "my_dict = {}\n",
    "\n",
    "string_indexer_obj = []\n",
    "\n",
    "string_indexer_output_names = []\n",
    "\n",
    "ohe_input_names = []\n",
    "\n",
    "ohe_output_names = []\n",
    "\n",
    "for col_name in categoric_cols:\n",
    "    my_dict[col_name+\"_indexedobj\"] = StringIndexer() \\\n",
    "                                    .setHandleInvalid(\"skip\") \\\n",
    "                                    .setInputCol(col_name) \\\n",
    "                                    .setOutputCol(col_name+\"_indexed\")\n",
    "    string_indexer_obj.append(my_dict.get(col_name+\"_indexedobj\"))\n",
    "    string_indexer_output_names.append(col_name+\"_indexed\")\n",
    "\n",
    "    if col_name in to_be_oheded:\n",
    "        ohe_input_names.append(col_name+\"_indexed\")\n",
    "        ohe_output_names.append(col_name+\"_ohe\")"
   ]
  },
  {
   "cell_type": "code",
   "execution_count": 29,
   "id": "11c9afdd",
   "metadata": {},
   "outputs": [
    {
     "name": "stdout",
     "output_type": "stream",
     "text": [
      "[StringIndexer_5f77ece94341, StringIndexer_aaa92e9f1464]\n"
     ]
    }
   ],
   "source": [
    "print(string_indexer_obj)"
   ]
  },
  {
   "cell_type": "code",
   "execution_count": 30,
   "id": "4e42a274",
   "metadata": {},
   "outputs": [
    {
     "name": "stdout",
     "output_type": "stream",
     "text": [
      "['Geography_indexed', 'Gender_indexed']\n"
     ]
    }
   ],
   "source": [
    "print(string_indexer_output_names)"
   ]
  },
  {
   "cell_type": "code",
   "execution_count": 31,
   "id": "8972453f",
   "metadata": {},
   "outputs": [
    {
     "name": "stdout",
     "output_type": "stream",
     "text": [
      "['Geography_indexed']\n"
     ]
    }
   ],
   "source": [
    "print(ohe_input_names)"
   ]
  },
  {
   "cell_type": "code",
   "execution_count": 32,
   "id": "08a252cc",
   "metadata": {},
   "outputs": [
    {
     "name": "stdout",
     "output_type": "stream",
     "text": [
      "['Geography_ohe']\n"
     ]
    }
   ],
   "source": [
    "print(ohe_output_names)"
   ]
  },
  {
   "cell_type": "markdown",
   "id": "23fa595b",
   "metadata": {},
   "source": [
    "### OneHotEncoder"
   ]
  },
  {
   "cell_type": "code",
   "execution_count": 33,
   "id": "f656800f",
   "metadata": {},
   "outputs": [],
   "source": [
    "from pyspark.ml.feature import OneHotEncoder"
   ]
  },
  {
   "cell_type": "code",
   "execution_count": 34,
   "id": "debc2295",
   "metadata": {},
   "outputs": [
    {
     "name": "stdout",
     "output_type": "stream",
     "text": [
      "['Gender_indexed']\n"
     ]
    }
   ],
   "source": [
    "string_indexer_ohe_excluded = list(set(string_indexer_output_names).difference(set(ohe_input_names)))\n",
    "print(string_indexer_ohe_excluded)"
   ]
  },
  {
   "cell_type": "code",
   "execution_count": 35,
   "id": "2d5a609c",
   "metadata": {},
   "outputs": [],
   "source": [
    "encoder = OneHotEncoder().setInputCols(ohe_input_names).setOutputCols(ohe_output_names)"
   ]
  },
  {
   "cell_type": "markdown",
   "id": "62369525",
   "metadata": {},
   "source": [
    "### Vector Assembler"
   ]
  },
  {
   "cell_type": "code",
   "execution_count": 36,
   "id": "71ea1108",
   "metadata": {},
   "outputs": [],
   "source": [
    "from pyspark.ml.feature import VectorAssembler"
   ]
  },
  {
   "cell_type": "code",
   "execution_count": 37,
   "id": "9ea4533f",
   "metadata": {},
   "outputs": [],
   "source": [
    "assembler = VectorAssembler().setInputCols(numeric_cols+string_indexer_ohe_excluded+ohe_output_names) \\\n",
    ".setOutputCol(\"unscaled_features\")"
   ]
  },
  {
   "cell_type": "markdown",
   "id": "62708311",
   "metadata": {},
   "source": [
    "### Scaler"
   ]
  },
  {
   "cell_type": "code",
   "execution_count": 38,
   "id": "36a8fea9",
   "metadata": {},
   "outputs": [],
   "source": [
    "from pyspark.ml.feature import StandardScaler"
   ]
  },
  {
   "cell_type": "code",
   "execution_count": 39,
   "id": "f18bf3ba",
   "metadata": {},
   "outputs": [],
   "source": [
    "scaler = StandardScaler().setInputCol(\"unscaled_features\").setOutputCol(\"features\")"
   ]
  },
  {
   "cell_type": "markdown",
   "id": "ba844443",
   "metadata": {},
   "source": [
    "### Estimator"
   ]
  },
  {
   "cell_type": "code",
   "execution_count": 40,
   "id": "c8981006",
   "metadata": {},
   "outputs": [],
   "source": [
    "from pyspark.ml.classification import GBTClassifier"
   ]
  },
  {
   "cell_type": "code",
   "execution_count": 41,
   "id": "c7b22622",
   "metadata": {},
   "outputs": [],
   "source": [
    "estimator = GBTClassifier() \\\n",
    ".setFeaturesCol(\"features\") \\\n",
    ".setLabelCol(label_col[0])"
   ]
  },
  {
   "cell_type": "markdown",
   "id": "61df9dcf",
   "metadata": {},
   "source": [
    "## Modelltraining, -test und -bewertung"
   ]
  },
  {
   "cell_type": "markdown",
   "id": "d695d505",
   "metadata": {},
   "source": [
    "### Pipeline"
   ]
  },
  {
   "cell_type": "code",
   "execution_count": 42,
   "id": "ca72158a",
   "metadata": {},
   "outputs": [],
   "source": [
    "from pyspark.ml import Pipeline"
   ]
  },
  {
   "cell_type": "code",
   "execution_count": 43,
   "id": "cfd5c7a7",
   "metadata": {},
   "outputs": [],
   "source": [
    "pipeline_obj = Pipeline().setStages(string_indexer_obj+[encoder, assembler, scaler, estimator])"
   ]
  },
  {
   "cell_type": "markdown",
   "id": "87c6c56b",
   "metadata": {},
   "source": [
    "### Split Data"
   ]
  },
  {
   "cell_type": "code",
   "execution_count": 44,
   "id": "9cdd7d47",
   "metadata": {},
   "outputs": [],
   "source": [
    "train_df, test_df = df1.randomSplit([.8, .2], seed = 142)"
   ]
  },
  {
   "cell_type": "code",
   "execution_count": 45,
   "id": "ff248b48",
   "metadata": {},
   "outputs": [
    {
     "name": "stdout",
     "output_type": "stream",
     "text": [
      "7994\n"
     ]
    }
   ],
   "source": [
    "print(train_df.count())"
   ]
  },
  {
   "cell_type": "markdown",
   "id": "25b20efe",
   "metadata": {},
   "source": [
    "### Train Model"
   ]
  },
  {
   "cell_type": "code",
   "execution_count": 46,
   "id": "be6a9cba",
   "metadata": {},
   "outputs": [],
   "source": [
    "pipeline_model =  pipeline_obj.fit(train_df)"
   ]
  },
  {
   "cell_type": "markdown",
   "id": "b54a9164",
   "metadata": {},
   "source": [
    "### Prediction"
   ]
  },
  {
   "cell_type": "code",
   "execution_count": 47,
   "id": "dd8a85c0",
   "metadata": {},
   "outputs": [],
   "source": [
    "transformed_df = pipeline_model.transform(test_df)"
   ]
  },
  {
   "cell_type": "code",
   "execution_count": 48,
   "id": "eef6580e",
   "metadata": {},
   "outputs": [
    {
     "name": "stdout",
     "output_type": "stream",
     "text": [
      "+------+----------+\n",
      "|Exited|prediction|\n",
      "+------+----------+\n",
      "|     0|       0.0|\n",
      "|     0|       0.0|\n",
      "|     0|       0.0|\n",
      "|     0|       0.0|\n",
      "|     0|       0.0|\n",
      "|     0|       1.0|\n",
      "|     0|       0.0|\n",
      "|     0|       0.0|\n",
      "|     1|       0.0|\n",
      "|     0|       0.0|\n",
      "+------+----------+\n",
      "only showing top 10 rows\n",
      "\n"
     ]
    }
   ],
   "source": [
    "transformed_df.select(\"Exited\", \"prediction\").show(10)"
   ]
  },
  {
   "cell_type": "markdown",
   "id": "45573262",
   "metadata": {},
   "source": [
    "### Evaluate Model"
   ]
  },
  {
   "cell_type": "code",
   "execution_count": 49,
   "id": "aa8f8505",
   "metadata": {},
   "outputs": [],
   "source": [
    "from pyspark.ml.evaluation import BinaryClassificationEvaluator"
   ]
  },
  {
   "cell_type": "code",
   "execution_count": 50,
   "id": "3abd9b51",
   "metadata": {},
   "outputs": [],
   "source": [
    "evaluator = BinaryClassificationEvaluator(labelCol = label_col[0])"
   ]
  },
  {
   "cell_type": "code",
   "execution_count": 51,
   "id": "8713830a",
   "metadata": {},
   "outputs": [
    {
     "data": {
      "text/plain": [
       "0.8591799680023813"
      ]
     },
     "execution_count": 51,
     "metadata": {},
     "output_type": "execute_result"
    }
   ],
   "source": [
    "evaluator.evaluate(transformed_df)"
   ]
  },
  {
   "cell_type": "code",
   "execution_count": 52,
   "id": "ec81d89d",
   "metadata": {},
   "outputs": [
    {
     "data": {
      "text/plain": [
       "'areaUnderROC'"
      ]
     },
     "execution_count": 52,
     "metadata": {},
     "output_type": "execute_result"
    }
   ],
   "source": [
    "evaluator.getMetricName()"
   ]
  },
  {
   "cell_type": "code",
   "execution_count": null,
   "id": "5dca8871",
   "metadata": {},
   "outputs": [],
   "source": []
  }
 ],
 "metadata": {
  "kernelspec": {
   "display_name": "venvspark",
   "language": "python",
   "name": "venvspark"
  },
  "language_info": {
   "codemirror_mode": {
    "name": "ipython",
    "version": 3
   },
   "file_extension": ".py",
   "mimetype": "text/x-python",
   "name": "python",
   "nbconvert_exporter": "python",
   "pygments_lexer": "ipython3",
   "version": "3.10.13"
  }
 },
 "nbformat": 4,
 "nbformat_minor": 5
}
